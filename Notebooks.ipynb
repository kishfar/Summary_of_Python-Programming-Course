{
 "cells": [
  {
   "cell_type": "markdown",
   "metadata": {},
   "source": [
    "# Varibales & Important Points in Python"
   ]
  },
  {
   "cell_type": "code",
   "execution_count": 1,
   "metadata": {},
   "outputs": [
    {
     "name": "stdout",
     "output_type": "stream",
     "text": [
      "<class 'int'>\n",
      "<class 'float'>\n",
      "<class 'str'>\n",
      "<class 'str'>\n",
      "<class 'bool'>\n"
     ]
    }
   ],
   "source": [
    "print(type(2))\n",
    "print(type(2.5))\n",
    "print(type(\"Hello, World!\"))\n",
    "print(type(\"2\"))\n",
    "print(type(True))"
   ]
  },
  {
   "cell_type": "code",
   "execution_count": 2,
   "metadata": {},
   "outputs": [
    {
     "name": "stdout",
     "output_type": "stream",
     "text": [
      "Let's learn from each other\n"
     ]
    }
   ],
   "source": [
    "# In the below text \"message\" is a varible\n",
    "message = \"Let's learn from each other\"\n",
    "print(message)"
   ]
  },
  {
   "cell_type": "markdown",
   "metadata": {},
   "source": [
    "<div dir=rtl>\n",
    "    نام‌گذاری‌ها در پایتون از قواعد خاصی پیروی می‌کند. در ادامه این قوانین آمده است.\n",
    "</div>\n",
    "\n",
    "<div dir=rtl>\n",
    "<ul>\n",
    "<li>نام یک متغیر نمی‌تواند با اعداد آغاز شود.</li>\n",
    "    <li>حق استفاده از فاصله در نام وجود ندارد، به جای آن از _ استفاده شود.</li>\n",
    "    <li>کاراکترهای خاص مانند :'\",\\<\\>/?|()!@#\\$\\%^&*~-+ مجاز به استفاده نیست</li>\n",
    "    <li>از کلمات از قبل ذخیره شده مانند <code>list, str</code> نباید استفاده کرد.</li>\n",
    "</ul>\n",
    "</div>"
   ]
  },
  {
   "cell_type": "markdown",
   "metadata": {},
   "source": [
    "<div dir=rtl>\n",
    "عملگرهای محاسباتی در ادامه آمده آست.    \n",
    "</div>"
   ]
  },
  {
   "cell_type": "markdown",
   "metadata": {},
   "source": [
    "|Operator| Operation|\n",
    "|:---:|:---:|\n",
    "| + | Addition |\n",
    "| - | Subtraction |\n",
    "| * | Multiplication |\n",
    "| / | Division |\n",
    "| //| Floor Division|\n",
    "| ** | Power |\n",
    "| % | Remainder |"
   ]
  },
  {
   "cell_type": "code",
   "execution_count": 4,
   "metadata": {},
   "outputs": [
    {
     "name": "stdout",
     "output_type": "stream",
     "text": [
      "5\n"
     ]
    }
   ],
   "source": [
    "number = input(\"Please enter a number\")\n",
    "print(number)"
   ]
  },
  {
   "cell_type": "code",
   "execution_count": 5,
   "metadata": {},
   "outputs": [
    {
     "name": "stdout",
     "output_type": "stream",
     "text": [
      "Hello masoud\n"
     ]
    }
   ],
   "source": [
    "name = input(\"Enter your name: \")\n",
    "print(\"Hello\",name)"
   ]
  },
  {
   "cell_type": "code",
   "execution_count": 6,
   "metadata": {},
   "outputs": [
    {
     "name": "stdout",
     "output_type": "stream",
     "text": [
      "Fahrenheit 32.0\n"
     ]
    }
   ],
   "source": [
    "celsius = input(\"Enter Celcius Temprature: \")\n",
    "print(\"Fahrenheit\", float(celsius) * (9 / 5) + 32)"
   ]
  },
  {
   "cell_type": "markdown",
   "metadata": {},
   "source": [
    "<div dir=rtl>\n",
    "بولین یک نوع در زبان برنامه‌نویسی پایتون است که به درست یا غلط ارزیابی می‌شود. جدول زیر انواع عملگرهای مورد استفاده در عبارت‌های بولین را نشان می‌دهد.    \n",
    "</div>"
   ]
  },
  {
   "cell_type": "markdown",
   "metadata": {},
   "source": [
    "|Operator|Description|\n",
    "|:---:|:----|\n",
    "|==|If the values of two operands are equal, then the condition becomes true|\n",
    "|!=|If values of two operands are not equal, then condition becomes true|\n",
    "|>| If the value of left operand is greater than the value of right operand, then condition becomes true|\n",
    "|<|If the value of left operand is less than the value of right operand, then condition becomes true|\n",
    "|>=|If the value of left operand is greater than or equal to the value of right operand, then condition becomes true|\n",
    "|<=|If the value of left operand is less than or equal to the value of right operand, then condition becomes true|"
   ]
  },
  {
   "cell_type": "code",
   "execution_count": 7,
   "metadata": {},
   "outputs": [
    {
     "data": {
      "text/plain": [
       "False"
      ]
     },
     "execution_count": 7,
     "metadata": {},
     "output_type": "execute_result"
    }
   ],
   "source": [
    "5==4"
   ]
  },
  {
   "cell_type": "code",
   "execution_count": 8,
   "metadata": {},
   "outputs": [
    {
     "data": {
      "text/plain": [
       "True"
      ]
     },
     "execution_count": 8,
     "metadata": {},
     "output_type": "execute_result"
    }
   ],
   "source": [
    "5>=1"
   ]
  },
  {
   "cell_type": "code",
   "execution_count": 11,
   "metadata": {},
   "outputs": [
    {
     "name": "stdout",
     "output_type": "stream",
     "text": [
      "True\n",
      "False\n",
      "False\n",
      "True\n",
      "True\n",
      "False\n",
      "False\n",
      "True\n"
     ]
    }
   ],
   "source": [
    "print(True and True)\n",
    "print(True and False)\n",
    "print(False and False)\n",
    "print(True or True)\n",
    "print(True or False)\n",
    "print(False or False)\n",
    "print(not True)\n",
    "print(not False)"
   ]
  },
  {
   "cell_type": "markdown",
   "metadata": {},
   "source": [
    "<div dir=rtl>\n",
    "    <b>توجه:</b>\n",
    "    اعداد غیر صفر به درست ارزیابی می‌شوند.\n",
    "    </div>"
   ]
  },
  {
   "cell_type": "code",
   "execution_count": 12,
   "metadata": {},
   "outputs": [
    {
     "name": "stdout",
     "output_type": "stream",
     "text": [
      "True\n",
      "0\n"
     ]
    }
   ],
   "source": [
    "print(5 and True)\n",
    "print(5 and 0)"
   ]
  },
  {
   "cell_type": "markdown",
   "metadata": {},
   "source": [
    "# Conditional"
   ]
  },
  {
   "cell_type": "code",
   "execution_count": 1,
   "metadata": {},
   "outputs": [
    {
     "name": "stdout",
     "output_type": "stream",
     "text": [
      "x is positive\n"
     ]
    }
   ],
   "source": [
    "x = 10\n",
    "if x > 0:\n",
    "    print(\"x is positive\")"
   ]
  },
  {
   "cell_type": "code",
   "execution_count": null,
   "metadata": {},
   "outputs": [
    {
     "name": "stdout",
     "output_type": "stream",
     "text": [
      "x is even\n"
     ]
    }
   ],
   "source": [
    "x = input(\"Enter integer: \")\n",
    "x = int(x)\n",
    "if x % 2 == 0:\n",
    "    print('x is even')\n",
    "else:\n",
    "    print('x is odd')"
   ]
  },
  {
   "cell_type": "code",
   "execution_count": 3,
   "metadata": {},
   "outputs": [
    {
     "name": "stdout",
     "output_type": "stream",
     "text": [
      "x is greater than y\n"
     ]
    }
   ],
   "source": [
    "x = 10\n",
    "y = 5\n",
    "if x < y:\n",
    "    print('x is less than y')\n",
    "elif x > y:\n",
    "    print('x is greater than y')\n",
    "else:\n",
    "    print('x and y are equal')"
   ]
  },
  {
   "cell_type": "code",
   "execution_count": 4,
   "metadata": {},
   "outputs": [],
   "source": [
    "x = 12\n",
    "if x > 0 and x < 10:\n",
    "    print('x is a positive single-digit number.')"
   ]
  },
  {
   "cell_type": "markdown",
   "metadata": {},
   "source": [
    "# fString"
   ]
  },
  {
   "cell_type": "markdown",
   "metadata": {},
   "source": [
    "<div dir=rtl>\n",
    "گاهی اوقات ما نیازمند کنترل بیشتری بر روی نمایش رشته هستیم. برای این کار قبل از شروع رشته از نشانه\n",
    "    <code>f</code>\n",
    "استفاده می‌کنیم. در داخل رشته هر آن‌چه که بین\n",
    "    <code>{</code>\n",
    "    و\n",
    "    <code>}</code>\n",
    "    قرار بگیرد، به عنوان متغیر محسوب می‌شود.\n",
    "</div>"
   ]
  },
  {
   "cell_type": "code",
   "execution_count": 5,
   "metadata": {},
   "outputs": [
    {
     "name": "stdout",
     "output_type": "stream",
     "text": [
      "Results of the 2020 Election\n"
     ]
    }
   ],
   "source": [
    "year = 2020\n",
    "event = \"Election\"\n",
    "print(f\"Results of the {year} {event}\")"
   ]
  },
  {
   "cell_type": "code",
   "execution_count": 6,
   "metadata": {},
   "outputs": [
    {
     "name": "stdout",
     "output_type": "stream",
     "text": [
      "50.327%\n"
     ]
    }
   ],
   "source": [
    "yes_votes = 42_572_654\n",
    "no_votes = 43_132_495\n",
    "print(f\"{no_votes/(yes_votes + no_votes):2.3%}\")"
   ]
  },
  {
   "cell_type": "code",
   "execution_count": 7,
   "metadata": {},
   "outputs": [
    {
     "name": "stdout",
     "output_type": "stream",
     "text": [
      "2025-03-06 16:00:20.411668\n",
      "Mar 06, 2025\n"
     ]
    }
   ],
   "source": [
    "import datetime\n",
    "today =  datetime.datetime.today()\n",
    "print(today)\n",
    "print(f\"{today:%b %d, %Y}\")"
   ]
  },
  {
   "cell_type": "code",
   "execution_count": 8,
   "metadata": {},
   "outputs": [
    {
     "name": "stdout",
     "output_type": "stream",
     "text": [
      "6\n",
      "5\n"
     ]
    }
   ],
   "source": [
    "x = 5\n",
    "y = 6\n",
    "x, y = y, x\n",
    "print(x)\n",
    "print(y)"
   ]
  },
  {
   "cell_type": "code",
   "execution_count": 9,
   "metadata": {},
   "outputs": [
    {
     "name": "stdout",
     "output_type": "stream",
     "text": [
      "Alireza\n",
      "Madam\n"
     ]
    }
   ],
   "source": [
    "name1 = \"Alireza\"\n",
    "name2 = \"Madam\"\n",
    "print(name1)\n",
    "print(name2)"
   ]
  },
  {
   "cell_type": "code",
   "execution_count": 10,
   "metadata": {},
   "outputs": [
    {
     "name": "stdout",
     "output_type": "stream",
     "text": [
      "Alireza is not a palindrome\n",
      "Madam is a palindrome\n"
     ]
    }
   ],
   "source": [
    "name1_lo = name1.lower()\n",
    "name2_lo = name2.lower()\n",
    "if name1_lo == name1_lo[::-1]:\n",
    "    print(f\"{name1} is a palindrome\")\n",
    "else:\n",
    "    print(f\"{name1} is not a palindrome\")\n",
    "if name2_lo == name2_lo[::-1]:\n",
    "    print(f\"{name2} is a palindrome\")\n",
    "else:\n",
    "    print(f\"{name2} is not a palindrome\")"
   ]
  },
  {
   "cell_type": "markdown",
   "metadata": {},
   "source": [
    "# List"
   ]
  },
  {
   "cell_type": "code",
   "execution_count": 15,
   "metadata": {},
   "outputs": [
    {
     "name": "stdout",
     "output_type": "stream",
     "text": [
      "['Alireza', 41, 12.75, True]\n",
      "4\n",
      "Alireza\n",
      "['Alireza', 41, 12.75, True]\n",
      "[41, 12.75, True]\n",
      "['Alireza', 41]\n"
     ]
    }
   ],
   "source": [
    "general_list = [\"Alireza\", 41, 12.75, True]\n",
    "print(general_list)\n",
    "print(len(general_list))\n",
    "print(general_list[0])\n",
    "print(general_list[:])\n",
    "print(general_list[1:])\n",
    "print(general_list[:2])"
   ]
  },
  {
   "cell_type": "code",
   "execution_count": 16,
   "metadata": {},
   "outputs": [
    {
     "name": "stdout",
     "output_type": "stream",
     "text": [
      "['Alireza', 41, 12.75, True, 1, 2, 3, 4, 5]\n",
      "[1, 2, 3, 4, 5]\n",
      "['Alireza', 41, 12.75, True]\n"
     ]
    }
   ],
   "source": [
    "num_list = [1, 2, 3, 4, 5]\n",
    "print(general_list + num_list)\n",
    "print(num_list)\n",
    "print(general_list)"
   ]
  },
  {
   "cell_type": "code",
   "execution_count": 17,
   "metadata": {},
   "outputs": [
    {
     "data": {
      "text/plain": [
       "[1, 2, 3, 4, 5, 1, 2, 3, 4, 5, 1, 2, 3, 4, 5]"
      ]
     },
     "execution_count": 17,
     "metadata": {},
     "output_type": "execute_result"
    }
   ],
   "source": [
    "num_list * 3"
   ]
  },
  {
   "cell_type": "code",
   "execution_count": 18,
   "metadata": {},
   "outputs": [
    {
     "name": "stdout",
     "output_type": "stream",
     "text": [
      "[1, 2, 3, 4, 5, 13]\n"
     ]
    }
   ],
   "source": [
    "num_list.append(13)\n",
    "print(num_list)"
   ]
  },
  {
   "cell_type": "code",
   "execution_count": 19,
   "metadata": {},
   "outputs": [
    {
     "name": "stdout",
     "output_type": "stream",
     "text": [
      "[1, 2, 3, 4, 5, 13, 11, 23, 2]\n"
     ]
    }
   ],
   "source": [
    "num_list.extend([11,23,2])\n",
    "print(num_list)"
   ]
  },
  {
   "cell_type": "code",
   "execution_count": 20,
   "metadata": {},
   "outputs": [
    {
     "name": "stdout",
     "output_type": "stream",
     "text": [
      "[1, 2, 3, 4, 5, 13, 11, 23]\n"
     ]
    }
   ],
   "source": [
    "num_list.pop()\n",
    "print(num_list)"
   ]
  },
  {
   "cell_type": "code",
   "execution_count": 21,
   "metadata": {},
   "outputs": [
    {
     "name": "stdout",
     "output_type": "stream",
     "text": [
      "[1, 2, 4, 5, 13, 11, 23]\n"
     ]
    }
   ],
   "source": [
    "num_list.pop(2)\n",
    "print(num_list)"
   ]
  },
  {
   "cell_type": "code",
   "execution_count": 22,
   "metadata": {},
   "outputs": [
    {
     "name": "stdout",
     "output_type": "stream",
     "text": [
      "23\n"
     ]
    }
   ],
   "source": [
    "popped_item = num_list.pop()\n",
    "print(popped_item)"
   ]
  },
  {
   "cell_type": "code",
   "execution_count": 23,
   "metadata": {},
   "outputs": [
    {
     "name": "stdout",
     "output_type": "stream",
     "text": [
      "['Alireza', 41, 12.75, True]\n",
      "['Alireza', 'a', 41, 12.75, True]\n"
     ]
    }
   ],
   "source": [
    "print(general_list)\n",
    "general_list.insert(1, 'a')\n",
    "print(general_list)"
   ]
  },
  {
   "cell_type": "code",
   "execution_count": 24,
   "metadata": {},
   "outputs": [
    {
     "name": "stdout",
     "output_type": "stream",
     "text": [
      "[1, 2, 4, 5, 13, 11]\n",
      "[1, 2, 4, 5, 11, 13]\n"
     ]
    }
   ],
   "source": [
    "print(num_list)\n",
    "num_list.sort()\n",
    "print(num_list)"
   ]
  },
  {
   "cell_type": "code",
   "execution_count": 25,
   "metadata": {},
   "outputs": [
    {
     "name": "stdout",
     "output_type": "stream",
     "text": [
      "[13, 11, 5, 4, 2, 1]\n"
     ]
    }
   ],
   "source": [
    "num_list.reverse()\n",
    "print(num_list)"
   ]
  },
  {
   "cell_type": "markdown",
   "metadata": {},
   "source": [
    "<h3 dir=rtl>\n",
    "لیست چند بعدی\n",
    "</h3>"
   ]
  },
  {
   "cell_type": "code",
   "execution_count": 26,
   "metadata": {},
   "outputs": [
    {
     "name": "stdout",
     "output_type": "stream",
     "text": [
      "[1, 2, [5, 4], 12]\n"
     ]
    }
   ],
   "source": [
    "nested_list = [1, 2, [5, 4], 12]\n",
    "print(nested_list)"
   ]
  },
  {
   "cell_type": "code",
   "execution_count": 27,
   "metadata": {},
   "outputs": [
    {
     "data": {
      "text/plain": [
       "[5, 4]"
      ]
     },
     "execution_count": 27,
     "metadata": {},
     "output_type": "execute_result"
    }
   ],
   "source": [
    "nested_list[2]"
   ]
  },
  {
   "cell_type": "code",
   "execution_count": 28,
   "metadata": {},
   "outputs": [
    {
     "name": "stdout",
     "output_type": "stream",
     "text": [
      "[[1, 2, 3, 4, 5], [6, 7, 8, 9, 10], [11, 12, 13, 14, 15], [16, 17, 18, 19, 20], [21, 22, 23, 24, 25]]\n"
     ]
    }
   ],
   "source": [
    "row1 = [1, 2, 3, 4, 5]\n",
    "row2 = [6, 7, 8, 9, 10]\n",
    "row3 = [11, 12, 13, 14, 15]\n",
    "row4 = [16, 17, 18, 19, 20]\n",
    "row5 = [21, 22, 23, 24, 25]\n",
    "matrix = [row1, row2, row3, row4, row5]\n",
    "print(matrix)"
   ]
  },
  {
   "cell_type": "code",
   "execution_count": 29,
   "metadata": {},
   "outputs": [
    {
     "data": {
      "text/plain": [
       "[[3, 5], [8, 10]]"
      ]
     },
     "execution_count": 29,
     "metadata": {},
     "output_type": "execute_result"
    }
   ],
   "source": [
    "[matrix[0][2::2],matrix[1][2::2]] "
   ]
  },
  {
   "cell_type": "code",
   "execution_count": null,
   "metadata": {},
   "outputs": [],
   "source": []
  }
 ],
 "metadata": {
  "kernelspec": {
   "display_name": "Python 3",
   "language": "python",
   "name": "python3"
  },
  "language_info": {
   "codemirror_mode": {
    "name": "ipython",
    "version": 3
   },
   "file_extension": ".py",
   "mimetype": "text/x-python",
   "name": "python",
   "nbconvert_exporter": "python",
   "pygments_lexer": "ipython3",
   "version": "3.12.4"
  }
 },
 "nbformat": 4,
 "nbformat_minor": 2
}
